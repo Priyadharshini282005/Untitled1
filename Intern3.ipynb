{
  "nbformat": 4,
  "nbformat_minor": 0,
  "metadata": {
    "colab": {
      "provenance": []
    },
    "kernelspec": {
      "name": "python3",
      "display_name": "Python 3"
    },
    "language_info": {
      "name": "python"
    }
  },
  "cells": [
    {
      "cell_type": "code",
      "execution_count": null,
      "metadata": {
        "id": "-JCm5nbkYZwo"
      },
      "outputs": [],
      "source": [
        "import numpy as np"
      ]
    },
    {
      "cell_type": "code",
      "source": [
        "import pandas as pd"
      ],
      "metadata": {
        "id": "HKyaCfESxdIb"
      },
      "execution_count": null,
      "outputs": []
    },
    {
      "cell_type": "code",
      "source": [
        "np.random.seed(42)"
      ],
      "metadata": {
        "id": "XIp05U8GxlF0"
      },
      "execution_count": null,
      "outputs": []
    },
    {
      "cell_type": "code",
      "source": [
        "#Create 30 employee IDs\n",
        "employee_ids = [f\"EMP_{i:03d}\" for i in range (1,31)]\n",
        "dates = pd.date_range(\"2025-07-01\",periods=30, freq=\"D\")"
      ],
      "metadata": {
        "id": "7nz-RLE3xoHQ"
      },
      "execution_count": 5,
      "outputs": []
    },
    {
      "cell_type": "code",
      "source": [
        "data = {\"Date\": np.tile(dates, len(employee_ids)),\n",
        " \"Employee_ID\" : np.repeat(employee_ids, len(dates)),\n",
        " \"Working_Hours\": np.random.uniform(4, 10, size=len(dates)* len(employee_ids)).round(2)\n",
        "}\n"
      ],
      "metadata": {
        "id": "FK5dVzBWysu2"
      },
      "execution_count": 13,
      "outputs": []
    },
    {
      "cell_type": "code",
      "source": [
        "df = pd.DataFrame(data)"
      ],
      "metadata": {
        "id": "QV7hNfn1zXVD"
      },
      "execution_count": 14,
      "outputs": []
    },
    {
      "cell_type": "code",
      "source": [
        "df.to_csv(\"employee_working_hours.csv\", index=False)"
      ],
      "metadata": {
        "id": "_nyPn8VBzoRg"
      },
      "execution_count": 15,
      "outputs": []
    },
    {
      "cell_type": "code",
      "source": [
        "df_csv = pd.read_csv(\"employee_working_hours.csv\")"
      ],
      "metadata": {
        "id": "8d57ILdKzwS2"
      },
      "execution_count": 16,
      "outputs": []
    },
    {
      "cell_type": "code",
      "source": [
        "print(df_csv.head())\n",
        "print(df_csv.describe())\n",
        "print(df_csv[\"Employee_ID\"].nunique())"
      ],
      "metadata": {
        "colab": {
          "base_uri": "https://localhost:8080/"
        },
        "id": "RRMvhxRWz8ee",
        "outputId": "97eb7368-bc8f-40f7-b5e3-35be3444c1f4"
      },
      "execution_count": 17,
      "outputs": [
        {
          "output_type": "stream",
          "name": "stdout",
          "text": [
            "         Date Employee_ID  Working_Hours\n",
            "0  2025-07-01     EMP_001           6.25\n",
            "1  2025-07-02     EMP_001           9.70\n",
            "2  2025-07-03     EMP_001           8.39\n",
            "3  2025-07-04     EMP_001           7.59\n",
            "4  2025-07-05     EMP_001           4.94\n",
            "       Working_Hours\n",
            "count     900.000000\n",
            "mean        6.954233\n",
            "std         1.762088\n",
            "min         4.030000\n",
            "25%         5.387500\n",
            "50%         7.010000\n",
            "75%         8.490000\n",
            "max        10.000000\n",
            "30\n"
          ]
        }
      ]
    },
    {
      "cell_type": "code",
      "source": [
        "total_hours =df_csv.groupby(\"Employee_ID\")[\"Working_Hours\"].sum().sort_values(ascending=False)"
      ],
      "metadata": {
        "id": "TRh5c0Ro0SwU"
      },
      "execution_count": 20,
      "outputs": []
    },
    {
      "cell_type": "code",
      "source": [
        "avg_daily =df_csv.groupby(\"Employee_ID\")[\"Working_Hours\"].mean()"
      ],
      "metadata": {
        "id": "eNxj21QN0ffd"
      },
      "execution_count": 21,
      "outputs": []
    },
    {
      "cell_type": "code",
      "source": [
        "#Flag unusually low or high working days\n",
        "threshold_low = 5\n",
        "threshold_high = 9"
      ],
      "metadata": {
        "id": "iAP6_NRf00P0"
      },
      "execution_count": 22,
      "outputs": []
    },
    {
      "cell_type": "code",
      "source": [
        "df_csv[\"Low_Hour_Flag\"] = df_csv[\"Working_Hours\"] <threshold_low\n"
      ],
      "metadata": {
        "id": "Fe6xc7Ue1TG5"
      },
      "execution_count": 29,
      "outputs": []
    },
    {
      "cell_type": "code",
      "source": [
        "df_csv[\"High_Hour_Flag\"]=df_csv[\"Working_Hours\"] >threshold_high"
      ],
      "metadata": {
        "id": "hf6RWOdV2AQs"
      },
      "execution_count": 30,
      "outputs": []
    },
    {
      "cell_type": "code",
      "source": [
        "print(df_csv[df_csv[\"Low_Hour_Flag\"] |df_csv[\"High_Hour_Flag\"]].head())\n"
      ],
      "metadata": {
        "colab": {
          "base_uri": "https://localhost:8080/"
        },
        "id": "1Ui-mUOk2ahR",
        "outputId": "aac4556d-c7e1-4727-8e01-d4164e19eab2"
      },
      "execution_count": 32,
      "outputs": [
        {
          "output_type": "stream",
          "name": "stdout",
          "text": [
            "         Date Employee_ID  Working_Hours  Low_Hour_Flag  High_Hour_Flag\n",
            "1  2025-07-02     EMP_001           9.70          False            True\n",
            "4  2025-07-05     EMP_001           4.94           True           False\n",
            "5  2025-07-06     EMP_001           4.94           True           False\n",
            "6  2025-07-07     EMP_001           4.35           True           False\n",
            "7  2025-07-08     EMP_001           9.20          False            True\n"
          ]
        }
      ]
    },
    {
      "cell_type": "code",
      "source": [
        "import matplotlib.pyplot as plt"
      ],
      "metadata": {
        "id": "8GewNa6I2oZb"
      },
      "execution_count": 33,
      "outputs": []
    },
    {
      "cell_type": "code",
      "source": [
        "import seaborn as sns"
      ],
      "metadata": {
        "id": "jW4LZq8Z23gk"
      },
      "execution_count": 34,
      "outputs": []
    },
    {
      "cell_type": "code",
      "source": [
        "top10 = total_hours.head(10)\n"
      ],
      "metadata": {
        "id": "L0_3OOAO26yD"
      },
      "execution_count": 36,
      "outputs": []
    },
    {
      "cell_type": "code",
      "source": [
        "plt.figure(figsize=(10,5))\n"
      ],
      "metadata": {
        "colab": {
          "base_uri": "https://localhost:8080/",
          "height": 52
        },
        "id": "vc0fOkpN3GNB",
        "outputId": "5272ef77-42e4-437b-f73a-dfb02efe9884"
      },
      "execution_count": 37,
      "outputs": [
        {
          "output_type": "execute_result",
          "data": {
            "text/plain": [
              "<Figure size 1000x500 with 0 Axes>"
            ]
          },
          "metadata": {},
          "execution_count": 37
        },
        {
          "output_type": "display_data",
          "data": {
            "text/plain": [
              "<Figure size 1000x500 with 0 Axes>"
            ]
          },
          "metadata": {}
        }
      ]
    },
    {
      "cell_type": "code",
      "source": [
        "sns.barplot(x=top10.index, y=top10.values)"
      ],
      "metadata": {
        "colab": {
          "base_uri": "https://localhost:8080/",
          "height": 467
        },
        "id": "GlpJtAcg3cOq",
        "outputId": "f5494d0b-1bbd-4c8c-d0a3-9caf2543f868"
      },
      "execution_count": 38,
      "outputs": [
        {
          "output_type": "execute_result",
          "data": {
            "text/plain": [
              "<Axes: xlabel='Employee_ID'>"
            ]
          },
          "metadata": {},
          "execution_count": 38
        },
        {
          "output_type": "display_data",
          "data": {
            "text/plain": [
              "<Figure size 640x480 with 1 Axes>"
            ],
            "image/png": "[encoded data removed]"
          },
          "metadata": {}
        }
      ]
    },
    {
      "cell_type": "code",
      "source": [
        "plt.xticks(rotation=45)"
      ],
      "metadata": {
        "colab": {
          "base_uri": "https://localhost:8080/",
          "height": 569
        },
        "id": "YOL2G7lR3iXV",
        "outputId": "f029114a-a1b1-4a90-cfb2-1fc66b839afc"
      },
      "execution_count": 39,
      "outputs": [
        {
          "output_type": "execute_result",
          "data": {
            "text/plain": [
              "(array([0. , 0.2, 0.4, 0.6, 0.8, 1. ]),\n",
              " [Text(0.0, 0, '0.0'),\n",
              "  Text(0.2, 0, '0.2'),\n",
              "  Text(0.4, 0, '0.4'),\n",
              "  Text(0.6000000000000001, 0, '0.6'),\n",
              "  Text(0.8, 0, '0.8'),\n",
              "  Text(1.0, 0, '1.0')])"
            ]
          },
          "metadata": {},
          "execution_count": 39
        },
        {
          "output_type": "display_data",
          "data": {
            "text/plain": [
              "<Figure size 640x480 with 1 Axes>"
            ],
            "image/png": "[encoded data removed]"
          },
          "metadata": {}
        }
      ]
    },
    {
      "cell_type": "code",
      "source": [
        "plt.title(\"Top 10 Employees by Total working Hours\")"
      ],
      "metadata": {
        "colab": {
          "base_uri": "https://localhost:8080/",
          "height": 469
        },
        "id": "ZgG05Zs13liF",
        "outputId": "57e7d320-b752-4b7c-d52f-03b3277ceb67"
      },
      "execution_count": 40,
      "outputs": [
        {
          "output_type": "execute_result",
          "data": {
            "text/plain": [
              "Text(0.5, 1.0, 'Top 10 Employees by Total working Hours')"
            ]
          },
          "metadata": {},
          "execution_count": 40
        },
        {
          "output_type": "display_data",
          "data": {
            "text/plain": [
              "<Figure size 640x480 with 1 Axes>"
            ],
            "image/png": "[encoded data removed]"
          },
          "metadata": {}
        }
      ]
    },
    {
      "cell_type": "code",
      "source": [
        "plt.ylabel(\"Hours\")"
      ],
      "metadata": {
        "colab": {
          "base_uri": "https://localhost:8080/",
          "height": 452
        },
        "id": "KS14UlSD3s9d",
        "outputId": "c517afb7-e5af-4dd4-ca01-69a68f715da7"
      },
      "execution_count": 43,
      "outputs": [
        {
          "output_type": "execute_result",
          "data": {
            "text/plain": [
              "Text(0, 0.5, 'Hours')"
            ]
          },
          "metadata": {},
          "execution_count": 43
        },
        {
          "output_type": "display_data",
          "data": {
            "text/plain": [
              "<Figure size 640x480 with 1 Axes>"
            ],
            "image/png": "[encoded data removed]"
          },
          "metadata": {}
        }
      ]
    },
    {
      "cell_type": "code",
      "source": [
        "plt.tight_layout()"
      ],
      "metadata": {
        "colab": {
          "base_uri": "https://localhost:8080/",
          "height": 34
        },
        "id": "Ox3r8_ql3zIr",
        "outputId": "c9a1e3ee-e5f5-480e-bb0d-c6a0b480772b"
      },
      "execution_count": 44,
      "outputs": [
        {
          "output_type": "display_data",
          "data": {
            "text/plain": [
              "<Figure size 640x480 with 0 Axes>"
            ]
          },
          "metadata": {}
        }
      ]
    },
    {
      "cell_type": "code",
      "source": [
        "plt.show()"
      ],
      "metadata": {
        "id": "IHbW02kk36tC"
      },
      "execution_count": 45,
      "outputs": []
    },
    {
      "cell_type": "code",
      "source": [],
      "metadata": {
        "id": "Z2bCMuuM4EQd"
      },
      "execution_count": null,
      "outputs": []
    }
  ]
}