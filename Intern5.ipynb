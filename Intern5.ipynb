{
  "nbformat": 4,
  "nbformat_minor": 0,
  "metadata": {
    "colab": {
      "provenance": []
    },
    "kernelspec": {
      "name": "python3",
      "display_name": "Python 3"
    },
    "language_info": {
      "name": "python"
    }
  },
  "cells": [
    {
      "cell_type": "code",
      "execution_count": 1,
      "metadata": {
        "id": "FlxDrnKAVHH-"
      },
      "outputs": [],
      "source": [
        "#pip install beautifulsoup4\n"
      ]
    },
    {
      "cell_type": "code",
      "source": [
        "#pip install beautifulsoup4 requests\n"
      ],
      "metadata": {
        "id": "KtkvazWpVSDx"
      },
      "execution_count": 2,
      "outputs": []
    },
    {
      "cell_type": "code",
      "source": [
        "#pip install beautifulsoup4 requests\n"
      ],
      "metadata": {
        "id": "NMWqVMT6VYXx"
      },
      "execution_count": 3,
      "outputs": []
    },
    {
      "cell_type": "code",
      "source": [
        "url = \"http://books.toscrape.com\"\n",
        "\n"
      ],
      "metadata": {
        "id": "02jAnVErVj1z"
      },
      "execution_count": 7,
      "outputs": []
    },
    {
      "cell_type": "code",
      "source": [
        "import requests\n",
        "from bs4 import BeautifulSoup\n",
        "\n",
        "url = \"http://books.toscrape.com\"\n",
        "response = requests.get(url)\n",
        "soup = BeautifulSoup(response.text, 'html.parser')\n",
        "\n",
        "print(soup.title.text)\n",
        "\n"
      ],
      "metadata": {
        "colab": {
          "base_uri": "https://localhost:8080/"
        },
        "id": "fQbzYOk3XkLv",
        "outputId": "271bde20-ac2f-4d11-cef5-66222edf9096"
      },
      "execution_count": 11,
      "outputs": [
        {
          "output_type": "stream",
          "name": "stdout",
          "text": [
            "\n",
            "    All products | Books to Scrape - Sandbox\n",
            "\n"
          ]
        }
      ]
    },
    {
      "cell_type": "code",
      "source": [
        "books = soup.find_all('article', class_='product_pod')\n"
      ],
      "metadata": {
        "id": "oAdro7qZYBwQ"
      },
      "execution_count": 12,
      "outputs": []
    },
    {
      "cell_type": "code",
      "source": [
        "for book in books:\n",
        "    title = book.h3.a['title']\n",
        "    price = book.find('p', class_='price_color').text\n"
      ],
      "metadata": {
        "id": "S18DTkcJZM3t"
      },
      "execution_count": 13,
      "outputs": []
    },
    {
      "cell_type": "code",
      "source": [
        " print(f\"Title: {title}\\nPrice: {price}\\n\")"
      ],
      "metadata": {
        "colab": {
          "base_uri": "https://localhost:8080/"
        },
        "id": "_CIw9He0ZQ5j",
        "outputId": "f960eb19-447b-4a6e-cf32-caa81cf20f9d"
      },
      "execution_count": 14,
      "outputs": [
        {
          "output_type": "stream",
          "name": "stdout",
          "text": [
            "Title: It's Only the Himalayas\n",
            "Price: Â£45.17\n",
            "\n"
          ]
        }
      ]
    },
    {
      "cell_type": "code",
      "source": [
        "book_date = []\n",
        "for book in books:\n",
        "    title = book.h3.a['title']\n",
        "    price =book.find ('p', class_ ='price_color').text\n",
        "    book_date.append({'Title':title,'Price':price})"
      ],
      "metadata": {
        "id": "bQ-eXhBJZUZh"
      },
      "execution_count": 21,
      "outputs": []
    },
    {
      "cell_type": "code",
      "source": [
        "import pandas as pd\n",
        "df = pd.DataFrame(book_date)"
      ],
      "metadata": {
        "id": "NwH9eQjcZl3f"
      },
      "execution_count": 23,
      "outputs": []
    },
    {
      "cell_type": "code",
      "source": [
        "book_data = []\n",
        "conversion_rate = 104\n"
      ],
      "metadata": {
        "id": "MgrUpZWrcs3y"
      },
      "execution_count": 24,
      "outputs": []
    },
    {
      "cell_type": "code",
      "source": [
        "for book in books:\n",
        "    title = book.h3.a['title']\n",
        "    price_gbp = book.find('p', class_='price_color').text"
      ],
      "metadata": {
        "id": "wauyqkB2dSy5"
      },
      "execution_count": 25,
      "outputs": []
    },
    {
      "cell_type": "code",
      "source": [
        "price_gbp_cleaned = price_gbp.replace('£', '').replace('Â', '').strip()\n",
        "\n"
      ],
      "metadata": {
        "id": "4aHb2nqVdORX"
      },
      "execution_count": 26,
      "outputs": []
    },
    {
      "cell_type": "code",
      "source": [
        "try:\n",
        "    price_gbp_value = float(price_gbp_cleaned)\n",
        "    price_inr = price_gbp_value * conversion_rate\n",
        "    book_data.append({'Title': title, 'Price (GBP)': price_gbp_value, 'Price (INR)': price_inr})\n",
        "except ValueError:\n",
        "    print(f\"Could not convert price to float for book: {title}\")\n",
        "    price_inr = 0.0\n",
        "    book_data.append({'Title': title, 'Price (GBP)': 0.0, 'Price (INR)': price_inr})"
      ],
      "metadata": {
        "id": "TisnvWMQdYUO"
      },
      "execution_count": 29,
      "outputs": []
    },
    {
      "cell_type": "code",
      "source": [
        "try:\n",
        "    price_gbp_value = float(price_gbp_cleaned)\n",
        "    price_inr = price_gbp_value * conversion_rate\n",
        "except ValueError:\n",
        "    print(f\"Could not convert price to float for book: {title}\")\n",
        "    price_gbp_value = 0.0 # Assign a default value in case of error\n",
        "    price_inr = 0.0 # Assign a default value in case of error\n",
        "\n",
        "print(f\"Title: {title}\\nPrice (GBP): £{price_gbp_value:.2f}\\nPrice (INR): ₹{price_inr:.2f}\\n\")\n",
        "book_data.append({\n",
        "    \"Title\": title,\n",
        "    \"Price (GBP)\": f\"£{price_gbp_value:.2f}\",\n",
        "    \"Price (INR)\": f\"₹{price_inr:.2f}\"\n",
        "})"
      ],
      "metadata": {
        "colab": {
          "base_uri": "https://localhost:8080/"
        },
        "id": "hFYMLsOfeavt",
        "outputId": "6db1700e-86f5-458f-e784-28ad33ada003"
      },
      "execution_count": 35,
      "outputs": [
        {
          "output_type": "stream",
          "name": "stdout",
          "text": [
            "Title: It's Only the Himalayas\n",
            "Price (GBP): £45.17\n",
            "Price (INR): ₹4697.68\n",
            "\n"
          ]
        }
      ]
    },
    {
      "cell_type": "code",
      "source": [],
      "metadata": {
        "id": "Jzha6opEhtKX"
      },
      "execution_count": null,
      "outputs": []
    }
  ]
}