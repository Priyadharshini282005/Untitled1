{
  "nbformat": 4,
  "nbformat_minor": 0,
  "metadata": {
    "colab": {
      "provenance": []
    },
    "kernelspec": {
      "name": "python3",
      "display_name": "Python 3"
    },
    "language_info": {
      "name": "python"
    }
  },
  "cells": [
    {
      "cell_type": "code",
      "execution_count": 1,
      "metadata": {
        "id": "WfIYoqTykC6H"
      },
      "outputs": [],
      "source": [
        "import numpy as np\n"
      ]
    },
    {
      "cell_type": "code",
      "source": [
        "input_ids = np.array([0, 0, 3, 0, 2, 4, 2, 2, 2, 2])\n"
      ],
      "metadata": {
        "id": "G2msHyT-kPVB"
      },
      "execution_count": 2,
      "outputs": []
    },
    {
      "cell_type": "code",
      "source": [
        "duplicates = np.zeros(len(input_ids), dtype=bool)\n"
      ],
      "metadata": {
        "id": "ntKfXb8fkS7W"
      },
      "execution_count": 3,
      "outputs": []
    },
    {
      "cell_type": "code",
      "source": [
        "seen = set()\n"
      ],
      "metadata": {
        "id": "D4auHbvHkWEZ"
      },
      "execution_count": 4,
      "outputs": []
    },
    {
      "cell_type": "code",
      "source": [
        "for idx, val in enumerate(input_ids):\n",
        "    if val in seen:\n",
        "        duplicates[idx] = True\n",
        "    else:\n",
        "        seen.add(val)"
      ],
      "metadata": {
        "id": "DY-OD7yAkZnS"
      },
      "execution_count": 10,
      "outputs": []
    },
    {
      "cell_type": "code",
      "source": [
        "print(duplicates)"
      ],
      "metadata": {
        "colab": {
          "base_uri": "https://localhost:8080/"
        },
        "id": "cTjrSghokdPE",
        "outputId": "3d4a96cc-7576-4b17-bd80-30ee6f42bab7"
      },
      "execution_count": 11,
      "outputs": [
        {
          "output_type": "stream",
          "name": "stdout",
          "text": [
            "[False  True False  True False False  True  True  True  True]\n"
          ]
        }
      ]
    },
    {
      "cell_type": "code",
      "source": [],
      "metadata": {
        "id": "1q6PwAoplTp0"
      },
      "execution_count": null,
      "outputs": []
    }
  ]
}